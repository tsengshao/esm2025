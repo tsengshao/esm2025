{
 "cells": [
  {
   "cell_type": "markdown",
   "id": "7a4c7629",
   "metadata": {},
   "source": [
    "# 🌀 Class Practice: OLR Regression and MJO Propagation\n",
    "\n",
    "In this notebook, you'll walk through the key steps of extracting eastward-propagating signals of the MJO using OLR regression.\n",
    "\n",
    "**Objectives:**\n",
    "- Understand anomaly calculation and seasonal cycle removal\n",
    "- Apply bandpass filter to isolate intraseasonal signal\n",
    "- Perform lagged regression and generate a Hovmöller diagram"
   ]
  },
  {
   "cell_type": "markdown",
   "id": "f2251726",
   "metadata": {},
   "source": [
    "## 📦 Step 1: Import necessary packages"
   ]
  },
  {
   "cell_type": "code",
   "execution_count": 1,
   "id": "f6fb26a5",
   "metadata": {},
   "outputs": [],
   "source": [
    "import numpy as np\n",
    "import matplotlib.pyplot as plt\n",
    "from netCDF4 import Dataset\n",
    "from scipy.signal import butter, filtfilt\n",
    "from matplotlib.colors import TwoSlopeNorm"
   ]
  },
  {
   "cell_type": "markdown",
   "id": "873371db",
   "metadata": {},
   "source": [
    "## 📂 Step 2: Load NetCDF data\n",
    "We are using FLNT (proxy for OLR), U850, and coordinates from TaiESM model output."
   ]
  },
  {
   "cell_type": "code",
   "execution_count": 2,
   "id": "fd5683b2",
   "metadata": {},
   "outputs": [],
   "source": [
    "with Dataset(\"f09.F2000_MJO_1year.cam.h0.subset_MJO_vars.nc\") as f:\n",
    "    Q = f[\"FLNT\"][:]\n",
    "    u850 = f[\"U850\"][:]\n",
    "    lat = f[\"lat\"][:]\n",
    "    lon = f[\"lon\"][:]\n",
    "    time = f[\"time\"][:]"
   ]
  },
  {
   "cell_type": "markdown",
   "id": "cc338633",
   "metadata": {},
   "source": [
    "## 🎚️ Step 3: Remove seasonal cycle and apply bandpass filter\n",
    "These helper functions are provided. Please review their structure."
   ]
  },
  {
   "cell_type": "code",
   "execution_count": 3,
   "id": "a08515b3",
   "metadata": {},
   "outputs": [],
   "source": [
    "def band_pass_filter(data, lowcut=1/90, highcut=1/50, fs=1):\n",
    "    nyq = 0.5 * fs\n",
    "    b, a = butter(2, [lowcut / nyq, highcut / nyq], btype='band')\n",
    "    return filtfilt(b, a, data, axis=0)\n",
    "\n",
    "def remove_seasonal_cycle(Q, num_harmonics=3):\n",
    "    \"\"\"\n",
    "    Remove seasonal cycle using low-order Fourier harmonics.\n",
    "    Supports input shape (time, lon) or (time, lat, lon).\n",
    "    \"\"\"\n",
    "    ntime = Q.shape[0]\n",
    "    t = np.arange(ntime)\n",
    "\n",
    "    # Create time basis\n",
    "    Q_detrended = Q.copy()\n",
    "    for h in range(1, num_harmonics + 1):\n",
    "        freq = 2 * np.pi * h / ntime\n",
    "        cos_term = np.cos(freq * t)\n",
    "        sin_term = np.sin(freq * t)\n",
    "\n",
    "        if Q.ndim == 2:  # (time, lon)\n",
    "            cos_term = cos_term[:, None]\n",
    "            sin_term = sin_term[:, None]\n",
    "            a = (Q * cos_term).mean(axis=0)\n",
    "            b = (Q * sin_term).mean(axis=0)\n",
    "            Q_detrended -= a[None, :] * cos_term\n",
    "            Q_detrended -= b[None, :] * sin_term\n",
    "\n",
    "        elif Q.ndim == 3:  # (time, lat, lon)\n",
    "            cos_term = cos_term[:, None, None]\n",
    "            sin_term = sin_term[:, None, None]\n",
    "            a = (Q * cos_term).mean(axis=0)\n",
    "            b = (Q * sin_term).mean(axis=0)\n",
    "            Q_detrended -= a[None, :, :] * cos_term\n",
    "            Q_detrended -= b[None, :, :] * sin_term\n",
    "\n",
    "        else:\n",
    "            raise ValueError(\"Input Q must be 2D or 3D (time, lon) or (time, lat, lon)\")\n",
    "\n",
    "    return Q_detrended"
   ]
  },
  {
   "cell_type": "code",
   "execution_count": 4,
   "id": "c08f394e",
   "metadata": {},
   "outputs": [],
   "source": [
    "def preprocess_Q(Q, lat, lat_band=(-15, 15)):\n",
    "    \"\"\"\n",
    "    Global anomaly → Remove seasonal cycle → Lat restrict + cos-weighted mean → Bandpass filter.\n",
    "    Input:\n",
    "        Q: (time, lat, lon)\n",
    "        lat: (lat,)\n",
    "    Returns:\n",
    "        Q_filtered: (time, lon)\n",
    "    \"\"\"\n",
    "    # Step 1: global anomaly (remove time mean at each grid point)\n",
    "    Q_anom = Q - Q.mean(axis=0)\n",
    "\n",
    "    # Step 2: remove seasonal cycle (grid-point wise)\n",
    "    Q_deseasonal = remove_seasonal_cycle(Q_anom, num_harmonics=3)  # shape: (time, lat, lon)\n",
    "\n",
    "    # Step 3: restrict latitude and do weighted average\n",
    "    lat_mask = (lat >= lat_band[0]) & (lat <= lat_band[1])\n",
    "    lat_sel = lat[lat_mask]\n",
    "    weights = np.cos(np.deg2rad(lat_sel))\n",
    "    weights /= weights.sum()\n",
    "\n",
    "    Q_sel = Q_deseasonal[:, lat_mask, :]  # shape: (time, lat_subset, lon)\n",
    "    Q_eq = np.average(Q_sel, axis=1, weights=weights)  # shape: (time, lon)\n",
    "\n",
    "    # Step 4: band-pass filter\n",
    "    Q_filtered = band_pass_filter(Q_eq)\n",
    "\n",
    "    return Q_filtered"
   ]
  },
  {
   "cell_type": "markdown",
   "id": "2f20a921",
   "metadata": {},
   "source": [
    "## 📈 Step 4: Preprocess FLNT and U850"
   ]
  },
  {
   "cell_type": "code",
   "execution_count": 5,
   "id": "e9edc346",
   "metadata": {},
   "outputs": [],
   "source": [
    "# Apply preprocessing to FLNT and U850\n",
    "Q_filtered = preprocess_Q(Q, lat, lat_band=(-15, 15))\n",
    "u850_filtered = preprocess_Q(u850, lat, lat_band=(-15, 15))"
   ]
  },
  {
   "cell_type": "markdown",
   "id": "6e0d40d1",
   "metadata": {},
   "source": [
    "## 📉 Step 5: Lagged Regression\n",
    "Here we regress FLNT(t+lag, lon) onto a reference time series (e.g. FLNT averaged over 75–80°E).\n",
    "\n",
    "The function below computes regression slopes α(lag, lon)."
   ]
  },
  {
   "cell_type": "code",
   "execution_count": 6,
   "id": "e9541c6f",
   "metadata": {},
   "outputs": [],
   "source": [
    "def lagged_regression_against_reference(Q, ref_series, lags=np.arange(-20, 21)):\n",
    "    \"\"\"\n",
    "    Regress Q(t, lon) ~ ref_series(t + lag)\n",
    "\n",
    "    Parameters:\n",
    "        Q: (time, lon) full field\n",
    "        ref_series: (time,) reference time series\n",
    "        lags: list of lags\n",
    "\n",
    "    Returns:\n",
    "        reg_map: (len(lags), lon)\n",
    "    \"\"\"\n",
    "    nt, nlon = Q.shape\n",
    "    reg_map = np.full((len(lags), nlon), np.nan)\n",
    "\n",
    "    for i, lag in enumerate(lags):\n",
    "        t = np.arange(nt)\n",
    "        t_lag = t + lag\n",
    "        valid = (t_lag >= 0) & (t_lag < nt)\n",
    "\n",
    "        x = ref_series[...] # ← 請填入 t_lag[valid] 或 t[valid] 中的哪一個？\n",
    "        y = Q[...]          # ← 請填入 t_lag[valid] 或 t[valid] 中的哪一個？\n",
    "\n",
    "        cov = np.mean(x[:, None] * y, axis=0)\n",
    "        var = np.mean(x ** 2)\n",
    "        reg_map[i] = cov / var if var > 0 else 0\n",
    "\n",
    "    return reg_map"
   ]
  },
  {
   "cell_type": "markdown",
   "id": "15265a18",
   "metadata": {},
   "source": [
    "## 🌍 Step 6: Plot Hovmöller Diagram"
   ]
  },
  {
   "cell_type": "code",
   "execution_count": 7,
   "id": "0c2e020f",
   "metadata": {},
   "outputs": [
    {
     "name": "stdout",
     "output_type": "stream",
     "text": [
      "(366, 288)\n"
     ]
    },
    {
     "data": {
      "image/png": "[encoded data removed]",
      "text/plain": [
       "<Figure size 1200x500 with 2 Axes>"
      ]
     },
     "metadata": {},
     "output_type": "display_data"
    }
   ],
   "source": [
    "# Step. 0: Make sure the dimension of Q_filtered\n",
    "print(Q_filtered.shape)\n",
    "\n",
    "# Step 1: 平均 Q_filtered 在 75–80°E 區間\n",
    "ref_mask = (lon >= 75) & (lon <= 80)\n",
    "ref_series = Q_filtered[:, ref_mask].mean(axis=1)  # shape: (time,)\n",
    "\n",
    "# Step 2: 做回歸\n",
    "reg_map = lagged_regression_against_reference(Q_filtered, ref_series, lags=np.arange(-40, 41))\n",
    "\n",
    "# Step 3: 畫圖\n",
    "fig, ax = plt.subplots(1, figsize=(12, 5))\n",
    "vabs = np.nanmax(np.abs(reg_map))\n",
    "norm = TwoSlopeNorm(vmin=-vabs-0.15, vcenter=0, vmax=vabs+0.15)\n",
    "\n",
    "cf = ax.contourf(\n",
    "    lon[20:160], np.arange(-40, 41), reg_map[:, 20:160],\n",
    "    levels=np.linspace(-vabs-0.4, vabs+0.4, 21),\n",
    "    cmap=\"RdBu_r\", norm=norm, extend=\"both\"\n",
    ")\n",
    "\n",
    "ax.axhline(0, color='k', linestyle='--')\n",
    "ax.set_xlabel(\"Longitude (°E)\", fontsize=14)\n",
    "ax.set_ylabel(\"Lag (days)\", fontsize=14)\n",
    "ax.set_title(\"TaiESM OLR lag regression\", fontsize=18)\n",
    "ax.tick_params(axis='both', labelsize=14, direction='out', length=6)\n",
    "cbar = fig.colorbar(cf, ax=ax, label=\"Regression Coefficient\", pad=0.01)\n",
    "plt.tight_layout()\n",
    "plt.show()\n",
    "\n",
    "\n"
   ]
  },
  {
   "cell_type": "markdown",
   "id": "162de953",
   "metadata": {},
   "source": [
    "## ✅ Summary\n",
    "- You processed full-field OLR and U850\n",
    "- Removed seasonal cycle and filtered intraseasonal signals\n",
    "- Performed lagged regression and visualized MJO propagation\n",
    "\n",
    "🎯 *Challenge: Try different reference longitudes or apply same method to U850!*"
   ]
  }
 ],
 "metadata": {
  "kernelspec": {
   "display_name": "Python 3 (ipykernel)",
   "language": "python",
   "name": "python3"
  },
  "language_info": {
   "codemirror_mode": {
    "name": "ipython",
    "version": 3
   },
   "file_extension": ".py",
   "mimetype": "text/x-python",
   "name": "python",
   "nbconvert_exporter": "python",
   "pygments_lexer": "ipython3",
   "version": "3.9.18"
  }
 },
 "nbformat": 4,
 "nbformat_minor": 5
}
